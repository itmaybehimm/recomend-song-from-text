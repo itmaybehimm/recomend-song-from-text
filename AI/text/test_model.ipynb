{
 "cells": [
  {
   "cell_type": "markdown",
   "id": "150b141d-61fb-45fc-9243-5c3e0bbadaa4",
   "metadata": {},
   "source": [
    "# 13442 words"
   ]
  },
  {
   "cell_type": "code",
   "execution_count": 7,
   "id": "caa64063-31f8-4e50-9a87-664742a6bb54",
   "metadata": {},
   "outputs": [],
   "source": [
    "import tensorflow as tf\n",
    "import pickle\n",
    "from tensorflow.keras import Sequential\n",
    "import numpy as np\n",
    "import nltk\n",
    "from nltk.stem import PorterStemmer\n",
    "from nltk.stem import WordNetLemmatizer\n",
    "from nltk.corpus import stopwords\n",
    "import re"
   ]
  },
  {
   "cell_type": "code",
   "execution_count": 8,
   "id": "3f2610a2-c894-44e1-96e0-01ae1df22089",
   "metadata": {},
   "outputs": [],
   "source": [
    "def clean_data(text):\n",
    "    #removing @ tags \n",
    "    text=re.sub(r'@[a-zA-z0-9]+\\s*',' ',str(text))\n",
    "    \n",
    "    #removing urls\n",
    "    text=re.sub(r'http\\S+', '', text)\n",
    "    text=re.sub(r'www\\.\\S+', '', text)\n",
    "    \n",
    "    #replacing multiple whitesapces by a single\n",
    "    text = re.sub(r'\\s+',' ',text)\n",
    "    \n",
    "    # remove all single characters(surrounded by whitespace)\n",
    "    text = re.sub(r'\\s+[a-zA-Z]\\s+', ' ', text)\n",
    "    \n",
    "    # remove all single characters except i and I (surrounded by whitespace)\n",
    "    # text = re.sub(r'\\s+(?![iI])[a-zA-Z]\\s+', ' ', text)\n",
    "    \n",
    "    \n",
    "    # Converting to Lowercase \n",
    "    text = text.lower()\n",
    "    \n",
    "    # Lemmatization- splits into list of words ['The', 'quick', ....]\n",
    "    text = text.split()\n",
    "\n",
    "    lemma = WordNetLemmatizer()\n",
    "    text = [lemma.lemmatize(word) for word in text]\n",
    "    text = ' '.join(text)\n",
    "    \n",
    "    words = nltk.word_tokenize(text)\n",
    "    \n",
    "    # Get the list of stopwords\n",
    "    stop_words = set(stopwords.words('english'))\n",
    "    \n",
    "    # Remove stopwords from the text\n",
    "    filtered_words = [word for word in words if word.lower() not in stop_words]\n",
    "    \n",
    "    # Recreate the text without stopwords\n",
    "    filtered_text = ' '.join(filtered_words)\n",
    "    \n",
    "    return filtered_text"
   ]
  },
  {
   "cell_type": "code",
   "execution_count": 9,
   "id": "976cdfed-04fe-4174-b56d-aece45a592a2",
   "metadata": {},
   "outputs": [
    {
     "name": "stderr",
     "output_type": "stream",
     "text": [
      "/Users/himanshupradhan/coding/Projects/ML/recomend-song-from-text-image/venv/lib/python3.11/site-packages/sklearn/base.py:348: InconsistentVersionWarning: Trying to unpickle estimator CountVectorizer from version 1.2.2 when using version 1.3.2. This might lead to breaking code or invalid results. Use at your own risk. For more info please refer to:\n",
      "https://scikit-learn.org/stable/model_persistence.html#security-maintainability-limitations\n",
      "  warnings.warn(\n"
     ]
    }
   ],
   "source": [
    "with open('countvectorizer.pkl', 'rb') as f:\n",
    "    count_vectorizer = pickle.load(f)"
   ]
  },
  {
   "cell_type": "code",
   "execution_count": 10,
   "id": "dd8b9c80-0086-41de-8a07-748f29f6c9bd",
   "metadata": {},
   "outputs": [],
   "source": [
    "sentiment_mapping={\n",
    "    '0':'sadness',\n",
    "    '1':'joy',\n",
    "    '2':'love',\n",
    "    '3':'anger',\n",
    "    '4':'fear',\n",
    "    '5':['enthusiasm','surprise'],\n",
    "}"
   ]
  },
  {
   "cell_type": "code",
   "execution_count": 11,
   "id": "9a198262-58cd-476d-a4a2-ba592a165e1e",
   "metadata": {
    "tags": []
   },
   "outputs": [],
   "source": [
    "#setting up shape there must be a simpler way\n",
    "X=['makes feel wonderful']"
   ]
  },
  {
   "cell_type": "code",
   "execution_count": 12,
   "id": "d0031604-494f-47e5-ad77-1096e196383c",
   "metadata": {},
   "outputs": [
    {
     "data": {
      "text/plain": [
       "array([[0, 0, 0, ..., 0, 0, 0]])"
      ]
     },
     "execution_count": 12,
     "metadata": {},
     "output_type": "execute_result"
    }
   ],
   "source": [
    "X=count_vectorizer.transform(X).toarray()\n",
    "X"
   ]
  },
  {
   "cell_type": "code",
   "execution_count": 13,
   "id": "8bf5c828-96f3-4bd0-8052-aefc756eb4da",
   "metadata": {},
   "outputs": [],
   "source": [
    "_,m=X.shape"
   ]
  },
  {
   "cell_type": "code",
   "execution_count": 14,
   "id": "71db934d-3610-40f0-8f87-7857c51a396a",
   "metadata": {},
   "outputs": [],
   "source": [
    "opt=tf.keras.optimizers.Adam()\n",
    "loss=tf.keras.losses.SparseCategoricalCrossentropy(from_logits=True)\n",
    "batch_size=1000"
   ]
  },
  {
   "cell_type": "code",
   "execution_count": 15,
   "id": "69081c21-b281-4093-9936-b2e8969b81bb",
   "metadata": {},
   "outputs": [
    {
     "name": "stdout",
     "output_type": "stream",
     "text": [
      "Model: \"sequential\"\n",
      "_________________________________________________________________\n",
      " Layer (type)                Output Shape              Param #   \n",
      "=================================================================\n",
      " dense (Dense)               (None, 3000)              40329000  \n",
      "                                                                 \n",
      " dense_1 (Dense)             (None, 600)               1800600   \n",
      "                                                                 \n",
      " dense_2 (Dense)             (None, 400)               240400    \n",
      "                                                                 \n",
      " dense_3 (Dense)             (None, 260)               104260    \n",
      "                                                                 \n",
      " dense_4 (Dense)             (None, 30)                7830      \n",
      "                                                                 \n",
      " dense_5 (Dense)             (None, 6)                 186       \n",
      "                                                                 \n",
      "=================================================================\n",
      "Total params: 42482276 (162.06 MB)\n",
      "Trainable params: 42482276 (162.06 MB)\n",
      "Non-trainable params: 0 (0.00 Byte)\n",
      "_________________________________________________________________\n"
     ]
    }
   ],
   "source": [
    "model=Sequential(\n",
    "      [tf.keras.Input(shape=(m,)),\n",
    "      tf.keras.layers.Dense(units=3000,activation='relu'),\n",
    "      tf.keras.layers.Dense(units=600,activation='relu'),\n",
    "      tf.keras.layers.Dense(units=400,activation='relu'),\n",
    "      tf.keras.layers.Dense(units=260,activation='relu'),\n",
    "      tf.keras.layers.Dense(units=30,activation='relu'),\n",
    "      tf.keras.layers.Dense(units=6,activation='linear')])\n",
    "    \n",
    "model.compile(loss=loss,optimizer=opt,metrics='accuracy')\n",
    "model.summary()"
   ]
  },
  {
   "cell_type": "code",
   "execution_count": 16,
   "id": "60815d73-28f3-49c8-95ea-040de2fc6188",
   "metadata": {},
   "outputs": [],
   "source": [
    "model.load_weights('model.h5')"
   ]
  },
  {
   "cell_type": "code",
   "execution_count": 21,
   "id": "c96e0747-754f-450a-9204-5d0aced06d03",
   "metadata": {},
   "outputs": [
    {
     "name": "stdout",
     "output_type": "stream",
     "text": [
      "['like ? ?']\n"
     ]
    },
    {
     "data": {
      "text/plain": [
       "array([[0, 0, 0, ..., 0, 0, 0]])"
      ]
     },
     "execution_count": 21,
     "metadata": {},
     "output_type": "execute_result"
    }
   ],
   "source": [
    "X=[\n",
    "    \"why are you like this??\",\n",
    "]\n",
    "X=[clean_data(x) for x in X]\n",
    "print(X)\n",
    "X=count_vectorizer.transform(X).toarray()\n",
    "X"
   ]
  },
  {
   "cell_type": "code",
   "execution_count": 22,
   "id": "91474b13-4de8-4352-a4e2-3a857e0429e1",
   "metadata": {},
   "outputs": [
    {
     "name": "stdout",
     "output_type": "stream",
     "text": [
      "1/1 [==============================] - 0s 19ms/step\n"
     ]
    },
    {
     "data": {
      "text/plain": [
       "'joy'"
      ]
     },
     "execution_count": 22,
     "metadata": {},
     "output_type": "execute_result"
    }
   ],
   "source": [
    "y=model.predict(X)\n",
    "sentiment_mapping[str(np.argmax(y))]\n"
   ]
  },
  {
   "cell_type": "code",
   "execution_count": 19,
   "id": "d187edb0-0f07-4bc2-9a51-72bffe36b660",
   "metadata": {},
   "outputs": [
    {
     "data": {
      "text/plain": [
       "<tf.Tensor: shape=(1, 6), dtype=float32, numpy=\n",
       "array([[4.8960590e-07, 5.6916146e-05, 1.7696588e-05, 8.6705347e-07,\n",
       "        4.6127807e-05, 9.9987793e-01]], dtype=float32)>"
      ]
     },
     "execution_count": 19,
     "metadata": {},
     "output_type": "execute_result"
    }
   ],
   "source": [
    "y_sm=tf.nn.softmax(y)\n",
    "y_sm"
   ]
  },
  {
   "cell_type": "code",
   "execution_count": 20,
   "id": "516fc2d8-fc3b-4f56-a864-1c80329b1618",
   "metadata": {},
   "outputs": [
    {
     "data": {
      "text/plain": [
       "5"
      ]
     },
     "execution_count": 20,
     "metadata": {},
     "output_type": "execute_result"
    }
   ],
   "source": [
    "pred=np.argmax(y_sm)\n",
    "pred"
   ]
  },
  {
   "cell_type": "code",
   "execution_count": null,
   "id": "689af254-f3ca-495c-ad79-66f5517c734b",
   "metadata": {},
   "outputs": [],
   "source": []
  }
 ],
 "metadata": {
  "kernelspec": {
   "display_name": "song-recomendation-kernel",
   "language": "python",
   "name": "song-recomendation-kernel"
  },
  "language_info": {
   "codemirror_mode": {
    "name": "ipython",
    "version": 3
   },
   "file_extension": ".py",
   "mimetype": "text/x-python",
   "name": "python",
   "nbconvert_exporter": "python",
   "pygments_lexer": "ipython3",
   "version": "3.11.6"
  }
 },
 "nbformat": 4,
 "nbformat_minor": 5
}
